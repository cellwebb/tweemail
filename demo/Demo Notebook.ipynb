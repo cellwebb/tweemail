{
 "cells": [
  {
   "cell_type": "markdown",
   "metadata": {},
   "source": [
    "# tweemail\n",
    "tweemail provides an `Email` class, which can be used to easily send emails over an SMTP connection."
   ]
  },
  {
   "cell_type": "code",
   "execution_count": 1,
   "metadata": {},
   "outputs": [],
   "source": [
    "from tweemail import Email"
   ]
  },
  {
   "cell_type": "markdown",
   "metadata": {},
   "source": [
    "## Create email"
   ]
  },
  {
   "cell_type": "code",
   "execution_count": 2,
   "metadata": {},
   "outputs": [],
   "source": [
    "sender = 'Thomas.Webb@dnv.com'  # Insert your email address here\n",
    "recipients = 'Thomas.Webb@dnv.com'  # Insert your recipient's email address here\n",
    "subject = 'Test Email'\n",
    "html_body = ('<h1>Hello world!</h1><br><br>'\n",
    "             'This email was sent using <a href=\"https://github.com/thomwebb/tweemail\">tweemail</a>!')\n",
    "host = '****************'  # Insert your host here\n",
    "port = 25  # Insert your port here\n",
    "\n",
    "msg = Email(sender, recipients, subject, html_body, host=host, port=port)"
   ]
  },
  {
   "cell_type": "markdown",
   "metadata": {},
   "source": [
    "## Send email"
   ]
  },
  {
   "cell_type": "code",
   "execution_count": 3,
   "metadata": {},
   "outputs": [
    {
     "name": "stdout",
     "output_type": "stream",
     "text": [
      "Email sent to: thomas.webb@dnv.com\n"
     ]
    }
   ],
   "source": [
    "msg.send()"
   ]
  },
  {
   "cell_type": "markdown",
   "metadata": {},
   "source": [
    "## Attach files"
   ]
  },
  {
   "cell_type": "code",
   "execution_count": 4,
   "metadata": {},
   "outputs": [
    {
     "name": "stdout",
     "output_type": "stream",
     "text": [
      "Email sent to: thomas.webb@dnv.com\n"
     ]
    }
   ],
   "source": [
    "filepath = r'example_attachment.txt'  # Insert your attachment filepath here\n",
    "\n",
    "msg.attach_files(filepath)\n",
    "\n",
    "msg.send()"
   ]
  },
  {
   "cell_type": "markdown",
   "metadata": {},
   "source": [
    "## In case you can't set everything all at once, you can set and attach pieces individually"
   ]
  },
  {
   "cell_type": "code",
   "execution_count": 5,
   "metadata": {},
   "outputs": [
    {
     "name": "stdout",
     "output_type": "stream",
     "text": [
      "Email sent to: thomas.webb@dnv.com\n"
     ]
    }
   ],
   "source": [
    "msg = Email()\n",
    "\n",
    "msg.set_sender(sender)\n",
    "msg.set_recipients(recipients)\n",
    "msg.set_subject(subject)\n",
    "msg.attach_body(html_body)\n",
    "msg.set_host(host)\n",
    "msg.set_port(port)\n",
    "\n",
    "msg.send()"
   ]
  }
 ],
 "metadata": {
  "kernelspec": {
   "display_name": "Python 3",
   "language": "python",
   "name": "python3"
  },
  "language_info": {
   "codemirror_mode": {
    "name": "ipython",
    "version": 3
   },
   "file_extension": ".py",
   "mimetype": "text/x-python",
   "name": "python",
   "nbconvert_exporter": "python",
   "pygments_lexer": "ipython3",
   "version": "3.7.4"
  }
 },
 "nbformat": 4,
 "nbformat_minor": 4
}