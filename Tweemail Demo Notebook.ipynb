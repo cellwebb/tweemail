{
 "cells": [
  {
   "cell_type": "markdown",
   "metadata": {},
   "source": [
    "# tweemail\n",
    "tweemail provides the `Email` class, which can be used to easily send emails over an SMTP connection."
   ]
  },
  {
   "cell_type": "code",
   "execution_count": 1,
   "metadata": {},
   "outputs": [],
   "source": [
    "from tweemail import Email"
   ]
  },
  {
   "cell_type": "markdown",
   "metadata": {},
   "source": [
    "## Create email"
   ]
  },
  {
   "cell_type": "code",
   "execution_count": 2,
   "metadata": {},
   "outputs": [],
   "source": [
    "sender = 'Thomas.Webb@dnv.com'  # Insert your email address here\n",
    "recipients = 'Thomas.Webb@dnv.com'  # Insert your recipient's email address here\n",
    "subject = 'Test Email'\n",
    "html_body = ('<h1>Hello world!</h1><br><br>'\n",
    "             'This email was sent using <a href=\"https://github.com/thomwebb/tweemail\">tweemail</a>!')\n",
    "host = '****************'  # Insert your host here\n",
    "port = 25  # Insert your port here\n",
    "\n",
    "msg = Email(sender, recipients, subject, html_body, host=host, port=port)"
   ]
  },
  {
   "cell_type": "markdown",
   "metadata": {},
   "source": [
    "## Send email"
   ]
  },
  {
   "cell_type": "code",
   "execution_count": 3,
   "metadata": {},
   "outputs": [
    {
     "name": "stdout",
     "output_type": "stream",
     "text": [
      "Email sent to: thomas.webb@dnv.com\n"
     ]
    }
   ],
   "source": [
    "msg.send()"
   ]
  },
  {
   "cell_type": "markdown",
   "metadata": {},
   "source": [
    "## Attach files"
   ]
  },
  {
   "cell_type": "code",
   "execution_count": 4,
   "metadata": {},
   "outputs": [
    {
     "name": "stdout",
     "output_type": "stream",
     "text": [
      "Email sent to: thomas.webb@dnv.com\n"
     ]
    }
   ],
   "source": [
    "attachment_filepath = r'logs\\example log.csv'\n",
    "\n",
    "msg.attach_files(attachment_filepath)\n",
    "\n",
    "msg.send()"
   ]
  }
 ],
 "metadata": {
  "kernelspec": {
   "display_name": "Python 3",
   "language": "python",
   "name": "python3"
  },
  "language_info": {
   "codemirror_mode": {
    "name": "ipython",
    "version": 3
   },
   "file_extension": ".py",
   "mimetype": "text/x-python",
   "name": "python",
   "nbconvert_exporter": "python",
   "pygments_lexer": "ipython3",
   "version": "3.7.4"
  }
 },
 "nbformat": 4,
 "nbformat_minor": 4
}
